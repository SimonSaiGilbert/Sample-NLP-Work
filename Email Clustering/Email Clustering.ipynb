{
 "cells": [
  {
   "cell_type": "code",
   "execution_count": 1,
   "metadata": {},
   "outputs": [],
   "source": [
    "from sklearn.feature_extraction.text import TfidfVectorizer, ENGLISH_STOP_WORDS\n",
    "from sklearn.decomposition import PCA\n",
    "from sklearn.cluster import KMeans\n",
    "import os\n",
    "import email\n",
    "import pandas as pd\n",
    "import matplotlib.pyplot as plt\n",
    "import nltk\n",
    "import numpy as np\n",
    "import string"
   ]
  },
  {
   "cell_type": "code",
   "execution_count": 2,
   "metadata": {},
   "outputs": [],
   "source": [
    "# This cell imports all emails into a dictionary where the keys are given by the file path to that email.\n",
    "# Using a dictionary was helpful for me to figure out where errors were coming from, but if I were to do\n",
    "# this assignment over now, I might save some time bypassing loading the data into various structures.\n",
    "\n",
    "data_dir = './Alaffia_Take_Home_Exercise_Data/'\n",
    "\n",
    "all_emails = {}\n",
    "\n",
    "for root, dirs, files in os.walk(data_dir):\n",
    "     for file in files:\n",
    "        if file != '.DS_Store':\n",
    "            with open(os.path.join(root, file), \"r\", encoding=\"ISO-8859-1\") as email_info:\n",
    "                text = email_info.read()\n",
    "                full_path = root + \"/\" + file\n",
    "                all_emails[full_path] = text\n",
    "\n",
    "            "
   ]
  },
  {
   "cell_type": "code",
   "execution_count": 3,
   "metadata": {},
   "outputs": [],
   "source": [
    "def clean_email(raw_message):\n",
    "    '''This function takes in an email, extracts the relevant information: sender, recipient, and body and \n",
    "    returns a dictionary of lists (one for each subset of information)'''\n",
    "    \n",
    "    email_dict = {}\n",
    "    \n",
    "    #Extract body of email and add to dictionary\n",
    "    b = email.message_from_string(raw_message)\n",
    "    body = []\n",
    "    if b.is_multipart():\n",
    "        for payload in b.get_payload():\n",
    "            body.append(payload.get_payload())\n",
    "    else:\n",
    "        body = b.get_payload().split('\\n')\n",
    "    \n",
    "    try:\n",
    "        body = [elem for elem in body if elem.strip()] \n",
    "    except:\n",
    "        new_body = []\n",
    "        for elem in body:\n",
    "            if isinstance(elem, str):\n",
    "                new_body.append(elem)\n",
    "            elif isinstance(elem, list):\n",
    "                for elem in elem:\n",
    "                    new_body.append(elem.get_payload())\n",
    "                \n",
    "    \n",
    "    # Extract who email is from and to and add to dictionary. I lumped direct emails and forwarded\n",
    "    # emails into the same category.\n",
    "    keys_to_extract = ['from', 'to', 'x-to', 'in-reply-to']\n",
    "    split_raw = raw_message.split('\\n')\n",
    "    \n",
    "    for line in split_raw:\n",
    "        if ':' in line:\n",
    "            pairs = line.split(':')\n",
    "            key = pairs[0].lower()\n",
    "            val = pairs[1].strip()\n",
    "            if key in keys_to_extract:\n",
    "                if key == 'x-to' or key == 'in-reply-to':\n",
    "                    key = 'to'\n",
    "                email_dict[key] = val\n",
    "                email_dict['body'] = ' '.join(body)\n",
    "\n",
    "    return email_dict\n"
   ]
  },
  {
   "cell_type": "code",
   "execution_count": 4,
   "metadata": {},
   "outputs": [
    {
     "name": "stderr",
     "output_type": "stream",
     "text": [
      "[nltk_data] Downloading package words to /Users/sgilbert/nltk_data...\n",
      "[nltk_data]   Package words is already up-to-date!\n"
     ]
    }
   ],
   "source": [
    "nltk.download('words')\n",
    "common_words = set(nltk.corpus.words.words())\n",
    "\n",
    "def filter_words(text):\n",
    "    '''This function filters out all non-English words'''\n",
    "    text = text.lower().translate(str.maketrans('', '', string.punctuation))\n",
    "    text = \" \".join(w for w in nltk.wordpunct_tokenize(text) if w.lower() in common_words)\n",
    "    return text\n"
   ]
  },
  {
   "cell_type": "code",
   "execution_count": 5,
   "metadata": {},
   "outputs": [
    {
     "name": "stdout",
     "output_type": "stream",
     "text": [
      "35\n"
     ]
    }
   ],
   "source": [
    "# This cell cleans all of the email data. A small percentage of the data (~0.3%) failed cleaning\n",
    "# for various reasons, so I didn't include those emails. In a real-world scenario, I would work on\n",
    "# making sure all data are included (don't want to lose anything valuable!), but for this assignment\n",
    "# I felt it was an appropriate sacrifice to get a working program within the time constraints.\n",
    "\n",
    "num_failed = 0\n",
    "\n",
    "email_features = {\n",
    "    'body': [],\n",
    "    'sender': [],\n",
    "    'recipient': []\n",
    "}\n",
    "\n",
    "for key in all_emails.keys():\n",
    "    try:\n",
    "        cleaned_email = clean_email(all_emails[key])\n",
    "        cleaned_email['body'] = filter_words(cleaned_email['body'])\n",
    "        email_features['recipient'].append(cleaned_email['to'])\n",
    "        email_features['body'].append(cleaned_email['body'])\n",
    "        email_features['sender'].append(cleaned_email['from'])\n",
    "    except:\n",
    "        num_failed += 1\n",
    "\n",
    "\n",
    "print(num_failed)\n",
    "\n",
    "email_data = pd.DataFrame(email_features) # Creates Pandas Data Frame for easy handling of data\n",
    "    "
   ]
  },
  {
   "cell_type": "code",
   "execution_count": 6,
   "metadata": {},
   "outputs": [],
   "source": [
    "def get_data_matrix_and_features(data, max_df=0.3, min_df=2):\n",
    "    '''This function takes the email data and converts it to a term frequency–inverse document frequency\n",
    "    matrix. The score given by this metric indicates how important a word is to the body from which it is pulled'''\n",
    "    \n",
    "    vect = TfidfVectorizer(analyzer='word', stop_words=ENGLISH_STOP_WORDS, max_df=max_df, min_df=min_df)\n",
    "    body_data_matrix = vect.fit_transform(data)\n",
    "    features = vect.get_feature_names()\n",
    "    \n",
    "    return body_data_matrix, features\n",
    "\n",
    "body_data_matrix, features = get_data_matrix_and_features(email_data.body)"
   ]
  },
  {
   "cell_type": "code",
   "execution_count": 7,
   "metadata": {},
   "outputs": [
    {
     "data": {
      "image/png": "[encoded data removed]",
      "text/plain": [
       "<Figure size 432x288 with 1 Axes>"
      ]
     },
     "metadata": {
      "needs_background": "light"
     },
     "output_type": "display_data"
    }
   ],
   "source": [
    "# A plot made by performing principal component analysis on the data matrix for visualization.\n",
    "# The plot gives an idea of how the data cluster. It seems like it can be approximately separated into 3 groups \n",
    "\n",
    "dense_body_matrix = body_data_matrix.todense()\n",
    "coordinates = PCA(n_components=2).fit_transform(dense_body_matrix)\n",
    "plt.scatter(coordinates[:, 0], coordinates[:, 1])\n",
    "plt.title(\"Projected Plot of Body Data Matrix\")\n",
    "plt.show()"
   ]
  },
  {
   "cell_type": "code",
   "execution_count": 8,
   "metadata": {},
   "outputs": [
    {
     "name": "stdout",
     "output_type": "stream",
     "text": [
      "           word     score\n",
      "0          jeff  0.019433\n",
      "1          date  0.019070\n",
      "2         yahoo  0.008608\n",
      "3      attached  0.008342\n",
      "4         table  0.008314\n",
      "5       message  0.008064\n",
      "6          beta  0.007950\n",
      "7        report  0.007938\n",
      "8      skilling  0.007612\n",
      "9         image  0.006940\n",
      "10       energy  0.006610\n",
      "11       thanks  0.006393\n",
      "12         font  0.006074\n",
      "13         memo  0.005975\n",
      "14      meeting  0.005731\n",
      "15         mark  0.005536\n",
      "16          use  0.005146\n",
      "17         file  0.005063\n",
      "18         list  0.004968\n",
      "19  information  0.004919\n",
      "20   conference  0.004863\n",
      "21        great  0.004769\n",
      "22     business  0.004568\n",
      "23         mail  0.004460\n",
      "24       center  0.004319\n"
     ]
    }
   ],
   "source": [
    "def most_important_words(data, features, row_num, num_words):\n",
    "    '''Gets top num_words most important words in a given email body\n",
    "    where row_num designates the email index in the email_data Data Frame\n",
    "    '''\n",
    "    \n",
    "    row = np.squeeze(data[row_num].toarray())\n",
    "    indices = np.argsort(row)[::-1][:num_words]\n",
    "    most_important_words = [(features[i], row[i]) for i in indices]\n",
    "    return pd.DataFrame(most_important_words, columns=['word', 'score'])\n",
    "\n",
    "def tot_most_important_words(data, features, min_tfidf=0.15, num_words=25):\n",
    "    data = data.toarray()\n",
    "    data[data < min_tfidf] = 0 # Zeroes out tfidf values below the minimum threshold\n",
    "    \n",
    "    means = np.mean(data, axis=0)\n",
    "    indices = np.argsort(means)[::-1][:num_words]\n",
    "    most_important_words = [(features[i], means[i]) for i in indices]\n",
    "    \n",
    "    return pd.DataFrame(most_important_words, columns=['word', 'score'])\n",
    "\n",
    "# These are the most important words across the entire email corpus\n",
    "print(tot_most_important_words(body_data_matrix, features))"
   ]
  },
  {
   "cell_type": "code",
   "execution_count": 62,
   "metadata": {},
   "outputs": [
    {
     "data": {
      "image/png": "[encoded data removed]",
      "text/plain": [
       "<Figure size 432x288 with 1 Axes>"
      ]
     },
     "metadata": {
      "needs_background": "light"
     },
     "output_type": "display_data"
    }
   ],
   "source": [
    "# This cell performs a K-Means clustering to allow the algorithm to learn the 3 groups of emails\n",
    "\n",
    "num_clusters = 3\n",
    "\n",
    "clf = KMeans(n_clusters=num_clusters, \n",
    "            max_iter=100, \n",
    "            init='k-means++', \n",
    "            n_init=1)\n",
    "labels = clf.fit_predict(body_data_matrix)\n",
    "\n",
    "# Converts to matrix for easy PCA\n",
    "dense_body_data_matrix = body_data_matrix.todense()\n",
    "pca = PCA(n_components=2).fit(dense_body_data_matrix)\n",
    "coordinates = pca.transform(dense_body_data_matrix)\n",
    "\n",
    "# Plot clusters and centroids\n",
    "label_colors = [\"#2AB0E9\", \"#D7665E\", \"#A3DB05\"]\n",
    "colors = [label_colors[i] for i in labels]\n",
    "plt.scatter(coordinates[:, 0], coordinates[:, 1], c=colors)\n",
    "centroids = clf.cluster_centers_\n",
    "centroid_coordinates = pca.transform(centroids)\n",
    "plt.scatter(centroid_coordinates[:, 0], centroid_coordinates[:, 1], marker='X', s=200, linewidths=2, c='#444d60')\n",
    "plt.title\n",
    "plt.show()"
   ]
  },
  {
   "cell_type": "code",
   "execution_count": 70,
   "metadata": {},
   "outputs": [
    {
     "name": "stdout",
     "output_type": "stream",
     "text": [
      "group 1:  \n",
      "            word     score\n",
      "0       message  0.027322\n",
      "1         great  0.016757\n",
      "2          goal  0.014086\n",
      "3       company  0.013287\n",
      "4    conference  0.012591\n",
      "5          mark  0.012421\n",
      "6          park  0.012045\n",
      "7         board  0.012030\n",
      "8        number  0.011516\n",
      "9        letter  0.011485\n",
      "10  information  0.011092\n",
      "11         just  0.010661\n",
      "12        chief  0.010634\n",
      "13      meeting  0.010589\n",
      "14         send  0.010285 \n",
      "\n",
      "group 2:  \n",
      "          word     score\n",
      "0       table  0.017836\n",
      "1        beta  0.016714\n",
      "2       yahoo  0.015708\n",
      "3        font  0.012083\n",
      "4         use  0.008480\n",
      "5        mail  0.007958\n",
      "6        file  0.007754\n",
      "7   signature  0.007752\n",
      "8     message  0.007146\n",
      "9     package  0.006848\n",
      "10       body  0.006367\n",
      "11       free  0.006203\n",
      "12    version  0.005901\n",
      "13        hat  0.005788\n",
      "14       line  0.005616 \n",
      "\n",
      "group 3:  \n",
      "          word     score\n",
      "0        date  0.040559\n",
      "1    attached  0.015186\n",
      "2      report  0.014606\n",
      "3       image  0.012527\n",
      "4      energy  0.011872\n",
      "5        memo  0.011256\n",
      "6       power  0.007340\n",
      "7     meeting  0.007332\n",
      "8      center  0.006977\n",
      "9       daily  0.006946\n",
      "10  available  0.006773\n",
      "11  executive  0.006552\n",
      "12   notional  0.006545\n",
      "13        sat  0.006518\n",
      "14  committee  0.006508 \n",
      "\n"
     ]
    }
   ],
   "source": [
    "# This cell splits the email data up into the groups determined by the K-Means algorithm\n",
    "# and analyzes the most important words in each group\n",
    "\n",
    "group1 = {'body': []}\n",
    "group2 = {'body': []}\n",
    "group3 = {'body': []}\n",
    "\n",
    "for index, label in enumerate(labels):\n",
    "    if label == 0:\n",
    "        group1['body'].append(email_data.body[index])\n",
    "    elif label == 1:\n",
    "        group2['body'].append(email_data.body[index])\n",
    "    else:\n",
    "        group3['body'].append(email_data.body[index])\n",
    "\n",
    "group1 = pd.DataFrame(group1)\n",
    "group2 = pd.DataFrame(group2)\n",
    "group3 = pd.DataFrame(group3)\n",
    "\n",
    "body_data_matrix1, features1 = get_data_matrix_and_features(group1.body)\n",
    "body_data_matrix2, features2 = get_data_matrix_and_features(group2.body)\n",
    "body_data_matrix3, features3 = get_data_matrix_and_features(group3.body)\n",
    "\n",
    "print(\"group 1: \", \"\\n\", tot_most_important_words(body_data_matrix1, features1, num_words=15), \"\\n\")\n",
    "print(\"group 2: \", \"\\n\", tot_most_important_words(body_data_matrix2, features2, num_words=15), \"\\n\")\n",
    "print(\"group 3: \", \"\\n\", tot_most_important_words(body_data_matrix3, features3, num_words=15), \"\\n\")"
   ]
  },
  {
   "cell_type": "code",
   "execution_count": null,
   "metadata": {},
   "outputs": [],
   "source": []
  }
 ],
 "metadata": {
  "kernelspec": {
   "display_name": "Python 3",
   "language": "python",
   "name": "python3"
  },
  "language_info": {
   "codemirror_mode": {
    "name": "ipython",
    "version": 3
   },
   "file_extension": ".py",
   "mimetype": "text/x-python",
   "name": "python",
   "nbconvert_exporter": "python",
   "pygments_lexer": "ipython3",
   "version": "3.7.6"
  }
 },
 "nbformat": 4,
 "nbformat_minor": 4
}
